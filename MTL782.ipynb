{
  "cells": [
    {
      "cell_type": "markdown",
      "metadata": {
        "id": "nDcSx4mNVlR-"
      },
      "source": [
        "#Dataset: [Human Activity Recognition Using Smartphones Data Set](https://archive.ics.uci.edu/ml/datasets/human+activity+recognition+using+smartphones)"
      ]
    },
    {
      "cell_type": "markdown",
      "metadata": {
        "id": "VLhW6_Re4s4R"
      },
      "source": [
        "### The data records the values of the accelerometer and gyroscope of a phone while a person who has the phone performs the following activities: {walking, walking up, walking down, sitting, standing, laying}. The data is taken with 30 different people. The data is the average of a time window of 2.56s of performing the activity. There are a total of 561 attributes, of which 17 are raw data and the others are derived from these signals by taking their mean, deviation, max, etc.\n",
        "\n",
        "\\\n",
        " \\\n",
        "### There can be a number of associated benefits from mining the data, two of which we want to explore are:  \n",
        "### &nbsp; &nbsp;  (a) **Identifying the activity the user is performing from live data**  : Useful for activity tracking and fitness throughout the day.\n",
        "### &nbsp; &nbsp; (b) **Identifying the user uniquely from the data while he has the phone on his person.**   : May be used in advanced biometric test for identity.\n",
        "\n",
        "\\\n",
        "### &nbsp; &nbsp; The data is from a continuous signal and there are no missing values. Outliers have been cleaned   by performing low and high pass filtering. Test subjects were recorded for activity classification ensuring data quality.   \n",
        "###  &nbsp; &nbsp; &nbsp; &nbsp;\n",
        "\n",
        "\n",
        "------------------------------------------------------------------\n"
      ]
    },
    {
      "cell_type": "code",
      "execution_count": null,
      "metadata": {
        "id": "FAMmuI0icJEn"
      },
      "outputs": [],
      "source": [
        "import numpy\n",
        "import pandas\n",
        "import sklearn.tree\n",
        "import sklearn.metrics\n",
        "import sklearn.ensemble\n",
        "import sklearn.naive_bayes\n",
        "import sklearn.neighbors\n",
        "import sklearn.svm\n",
        "import sklearn.neural_network\n",
        "import sklearn.model_selection\n",
        "\n",
        "# URLs of files of the dataset\n",
        "X_train_url = 'https://drive.google.com/file/d/1cInxpee5tC30hACHPNafvrfXFQ9i5Ikw/view?usp=share_link'\n",
        "y_train_url = 'https://drive.google.com/file/d/1DNC7A072QdN_Id_VRBE55aBWvj9FaDe6/view?usp=share_link'\n",
        "subject_train_url = 'https://drive.google.com/file/d/1FdvqWrCBtcABTT5a3vELUjP1Ye1hUzCW/view?usp=share_link'\n",
        "X_test_url = 'https://drive.google.com/file/d/1v37EEGnBuNCm2n2h8ygOlHidWekMcDvO/view?usp=share_link'\n",
        "y_test_url = 'https://drive.google.com/file/d/1bQMV9xq-DMVvmkmU5h-KJ018pqwgBIEM/view?usp=share_link'\n",
        "subject_test_url = 'https://drive.google.com/file/d/1AON2XQ4MXxHfVyhO-SVP0keM8mKvT1pJ/view?usp=share_link'\n",
        "drive_url='https://drive.google.com/uc?id='\n",
        "\n",
        "# Downloading the datset\n",
        "train_X = pandas.read_csv(drive_url+X_train_url.split('/')[-2],delim_whitespace=True,header=None)\n",
        "train_y = pandas.read_csv(drive_url+y_train_url.split('/')[-2],delim_whitespace=True,header=None).values.ravel()\n",
        "train_subject = pandas.read_csv(drive_url+subject_train_url.split('/')[-2],delim_whitespace=True,header=None).values.ravel()\n",
        "test_X = pandas.read_csv(drive_url+X_test_url.split('/')[-2],delim_whitespace=True,header=None)\n",
        "test_y = pandas.read_csv(drive_url+y_test_url.split('/')[-2],delim_whitespace=True,header=None).values.ravel()\n",
        "test_subject = pandas.read_csv(drive_url+subject_test_url.split('/')[-2],delim_whitespace=True,header=None).values.ravel()\n",
        "\n",
        "cv=5        # k for cross validation\n",
        "verbose=1  # verbosity of grid search output"
      ]
    },
    {
      "cell_type": "markdown",
      "metadata": {
        "id": "7naXn-esX33a"
      },
      "source": [
        "### Decision Tree"
      ]
    },
    {
      "cell_type": "code",
      "execution_count": null,
      "metadata": {
        "colab": {
          "base_uri": "https://localhost:8080/"
        },
        "id": "-VZFT_LQTzvX",
        "outputId": "6222d4df-d13e-46fb-c630-b46a3bde874b"
      },
      "outputs": [
        {
          "name": "stdout",
          "output_type": "stream",
          "text": [
            "Classifying Movement\n",
            "\n",
            "Training Error:\n",
            "1.0\n",
            "Accuracy Score:\n",
            "0.8595181540549711\n",
            "\n",
            "\n",
            " K Fold Cross Validation and Parameter Tuning:\n",
            "\n",
            "\n",
            "Classifying Movement\n",
            "\n",
            "Fitting 5 folds for each of 40 candidates, totalling 200 fits\n",
            "Best parameters:\n",
            "\n",
            "{'criterion': 'entropy', 'max_depth': 5, 'min_samples_split': 11}\n",
            "Accuracy Score:\n",
            "0.8547675602307431\n"
          ]
        }
      ],
      "source": [
        "print('Classifying Movement\\n')\n",
        "dectree = sklearn.tree.DecisionTreeClassifier()\n",
        "dectree.fit(train_X,train_y)\n",
        "prediction = dectree.predict(test_X)\n",
        "print('Training Error:')\n",
        "print(dectree.score(train_X,train_y))\n",
        "print('Accuracy Score:')\n",
        "print(sklearn.metrics.accuracy_score(test_y,prediction))\n",
        "\n",
        "print('\\n\\n K Fold Cross Validation and Parameter Tuning:\\n\\n')\n",
        "\n",
        "parameters = {\n",
        "    'criterion' : ['gini','entropy'],\n",
        "    'max_depth' : [3,5,7,9],\n",
        "    'min_samples_split' : [6,7,9,10,11],\n",
        "    }\n",
        "\n",
        "print('Classifying Movement\\n')\n",
        "dectree = sklearn.model_selection.GridSearchCV(sklearn.tree.DecisionTreeClassifier(),parameters,cv=cv,verbose=verbose)\n",
        "dectree = dectree.fit(train_X,train_y)\n",
        "print('Best parameters:\\n')\n",
        "print(dectree.best_params_)\n",
        "print('Accuracy Score:')\n",
        "prediction = dectree.predict(test_X)\n",
        "print(sklearn.metrics.accuracy_score(test_y,prediction))"
      ]
    },
    {
      "cell_type": "markdown",
      "metadata": {
        "id": "CENunJf5X555"
      },
      "source": [
        "### Random Forest"
      ]
    },
    {
      "cell_type": "code",
      "execution_count": null,
      "metadata": {
        "colab": {
          "background_save": true,
          "base_uri": "https://localhost:8080/"
        },
        "id": "-Y7wSxR2cF9w",
        "outputId": "ea019641-ce69-47ac-b6af-a6f3144c68a2"
      },
      "outputs": [
        {
          "name": "stdout",
          "output_type": "stream",
          "text": [
            "Classifying Movement\n",
            "\n",
            "Accuracy Score:\n",
            "0.9222938581608415\n",
            "\n",
            "\n",
            " K Fold Cross Validation and Parameter Tuning:\n",
            "\n",
            "\n",
            "Classifying Movement\n",
            "\n",
            "Fitting 5 folds for each of 48 candidates, totalling 240 fits\n"
          ]
        }
      ],
      "source": [
        "print('Classifying Movement\\n')\n",
        "randforest = sklearn.ensemble.RandomForestClassifier()\n",
        "randforest.fit(train_X,train_y)\n",
        "prediction = randforest.predict(test_X)\n",
        "print('Accuracy Score:')\n",
        "print(sklearn.metrics.accuracy_score(test_y,prediction))\n",
        "\n",
        "print('\\n\\n K Fold Cross Validation and Parameter Tuning:\\n\\n')\n",
        "\n",
        "parameters = {\n",
        "    'n_estimators': [50,100,200],\n",
        "    'max_features': ['sqrt', 'log2'],\n",
        "    'max_depth' : [5,10,15,20],\n",
        "    'criterion' :['gini', 'entropy']\n",
        "}\n",
        "\n",
        "print('Classifying Movement\\n')\n",
        "randforest = sklearn.model_selection.GridSearchCV(sklearn.ensemble.RandomForestClassifier(),parameters,cv=cv,verbose=verbose)\n",
        "randforest = randforest.fit(train_X,train_y)\n",
        "print('Best parameters:\\n')\n",
        "print(randforest.best_params_)\n",
        "prediction = randforest.predict(test_X)\n",
        "print('Accuracy Score:')\n",
        "print(sklearn.metrics.accuracy_score(test_y,prediction))"
      ]
    },
    {
      "cell_type": "markdown",
      "metadata": {
        "id": "d6Pw6YrLX8Yt"
      },
      "source": [
        "### Naive Bayes Classifier"
      ]
    },
    {
      "cell_type": "code",
      "execution_count": null,
      "metadata": {
        "colab": {
          "base_uri": "https://localhost:8080/"
        },
        "id": "7G3QmrFUfSqm",
        "outputId": "d84c7266-c176-48b8-fdb1-c7c79629eaf2"
      },
      "outputs": [
        {
          "name": "stdout",
          "output_type": "stream",
          "text": [
            "Classifying Movement\n",
            "\n",
            "Accuracy Score:\n",
            "0.7702748557855447\n",
            "\n",
            "\n",
            " K Fold Cross Validation and Parameter Tuning:\n",
            "\n",
            "\n",
            "Classifying Movement\n",
            "\n",
            "Fitting 5 folds for each of 9 candidates, totalling 45 fits\n",
            "Best parameters:\n",
            "\n",
            "{'var_smoothing': 0.1}\n",
            "Accuracy Score:\n",
            "0.825246012894469\n"
          ]
        }
      ],
      "source": [
        "print('Classifying Movement\\n')\n",
        "naivebayes = sklearn.naive_bayes.GaussianNB()\n",
        "naivebayes.fit(train_X,train_y)\n",
        "prediction = naivebayes.predict(test_X)\n",
        "print('Accuracy Score:')\n",
        "print(sklearn.metrics.accuracy_score(test_y,prediction))\n",
        "\n",
        "print('\\n\\n K Fold Cross Validation and Parameter Tuning:\\n\\n')\n",
        "\n",
        "parameters = {\n",
        "    'var_smoothing' : [1,1e-1,1e-2,1e-3,1e-4,1e-5,1e-6,1e-7,1e-8]\n",
        "}\n",
        "\n",
        "print('Classifying Movement\\n')\n",
        "naivebayes = sklearn.model_selection.GridSearchCV(sklearn.naive_bayes.GaussianNB(),parameters,cv=cv,verbose=verbose)\n",
        "naivebayes = naivebayes.fit(train_X,train_y)\n",
        "prediction = naivebayes.predict(test_X)\n",
        "print('Best parameters:\\n')\n",
        "print(naivebayes.best_params_)\n",
        "print('Accuracy Score:')\n",
        "print(sklearn.metrics.accuracy_score(test_y,prediction))"
      ]
    },
    {
      "cell_type": "markdown",
      "metadata": {
        "id": "iLSn82r2YBke"
      },
      "source": [
        "### KNN Classifier"
      ]
    },
    {
      "cell_type": "code",
      "execution_count": null,
      "metadata": {
        "colab": {
          "base_uri": "https://localhost:8080/"
        },
        "id": "WvHlgBHCf8a3",
        "outputId": "7f1b0429-382e-4b9e-83e0-37c239f279f4"
      },
      "outputs": [
        {
          "name": "stdout",
          "output_type": "stream",
          "text": [
            "Classifying Movement\n",
            "\n",
            "Accuracy Score:\n",
            "0.9015948422124194\n",
            "\n",
            "\n",
            " K Fold Cross Validation and Parameter Tuning:\n",
            "\n",
            "\n",
            "Classifying movement\n",
            "\n",
            "Fitting 5 folds for each of 38 candidates, totalling 190 fits\n",
            "Best parameters:\n",
            "\n",
            "{'n_neighbors': 16, 'weights': 'distance'}\n",
            "Accuracy Score:\n",
            "0.9073634204275535\n"
          ]
        }
      ],
      "source": [
        "print('Classifying Movement\\n')\n",
        "knn = sklearn.neighbors.KNeighborsClassifier()\n",
        "knn.fit(train_X,train_y)\n",
        "prediction = knn.predict(test_X)\n",
        "print('Accuracy Score:')\n",
        "print(sklearn.metrics.accuracy_score(test_y,prediction))\n",
        "\n",
        "print('\\n\\n K Fold Cross Validation and Parameter Tuning:\\n\\n')\n",
        "\n",
        "parameters = {\n",
        "    'n_neighbors' : range(1,20),\n",
        "    'weights' : ['distance','uniform']\n",
        "}\n",
        "\n",
        "print('Classifying movement\\n')\n",
        "knn = sklearn.model_selection.GridSearchCV(sklearn.neighbors.KNeighborsClassifier(),parameters,cv=cv,verbose=verbose)\n",
        "knn = knn.fit(train_X,train_y)\n",
        "print('Best parameters:\\n')\n",
        "print(knn.best_params_)\n",
        "prediction = knn.predict(test_X)\n",
        "print('Accuracy Score:')\n",
        "print(sklearn.metrics.accuracy_score(test_y,prediction))"
      ]
    },
    {
      "cell_type": "markdown",
      "metadata": {
        "id": "INsVXAGVYF89"
      },
      "source": [
        "### SVM"
      ]
    },
    {
      "cell_type": "code",
      "execution_count": null,
      "metadata": {
        "colab": {
          "base_uri": "https://localhost:8080/"
        },
        "id": "ivbMcwO_l1Nt",
        "outputId": "f7b23406-460e-404f-e03a-1f1bf5b33241"
      },
      "outputs": [
        {
          "name": "stdout",
          "output_type": "stream",
          "text": [
            "Classifying Movement\n",
            "\n",
            "Accuracy Score:\n",
            "0.9504580929759077\n",
            "\n",
            "\n",
            " K Fold Cross Validation and Parameter Tuning:\n",
            "\n",
            "\n",
            "Classifying movement\n",
            "\n",
            "Fitting 5 folds for each of 36 candidates, totalling 180 fits\n",
            "Best parameters:\n",
            "\n",
            "{'C': 10, 'degree': 0, 'gamma': 0.01}\n",
            "Accuracy Score:\n",
            "0.9619952494061758\n"
          ]
        }
      ],
      "source": [
        "print('Classifying Movement\\n')\n",
        "svm = sklearn.svm.SVC()\n",
        "svm.fit(train_X,train_y)\n",
        "prediction = svm.predict(test_X)\n",
        "print('Accuracy Score:')\n",
        "print(sklearn.metrics.accuracy_score(test_y,prediction))\n",
        "\n",
        "print('\\n\\n K Fold Cross Validation and Parameter Tuning:\\n\\n')\n",
        "\n",
        "parameters = {\n",
        "    'C' : [1,10,100],\n",
        "    'gamma' : [0.001,0.01,0.1],\n",
        "    'degree' : [0,1,2,3]\n",
        "}\n",
        "\n",
        "print('Classifying movement\\n')\n",
        "svm = sklearn.model_selection.GridSearchCV(sklearn.svm.SVC(),parameters,cv=cv,verbose=verbose)\n",
        "svm = svm.fit(train_X,train_y)\n",
        "print('Best parameters:\\n')\n",
        "print(svm.best_params_)\n",
        "prediction = svm.predict(test_X)\n",
        "print('Accuracy Score:')\n",
        "print(sklearn.metrics.accuracy_score(test_y,prediction))"
      ]
    },
    {
      "cell_type": "markdown",
      "metadata": {
        "id": "pCQpGxOnYHjT"
      },
      "source": [
        "### ANN"
      ]
    },
    {
      "cell_type": "code",
      "execution_count": null,
      "metadata": {
        "id": "keXlGzdLpGwA"
      },
      "outputs": [],
      "source": [
        "print('Classifying Movement\\n')\n",
        "ann = sklearn.neural_network.MLPClassifier()\n",
        "ann.fit(train_X,train_y)\n",
        "prediction = ann.predict(test_X)\n",
        "print('Accuracy Score:')\n",
        "print(sklearn.metrics.accuracy_score(test_y,prediction))\n",
        "\n",
        "print('\\n\\n K Fold Cross Validation and Parameter Tuning:\\n\\n')\n",
        "\n",
        "parameters = {\n",
        "    'activation' : ['relu','sigmoid','tanh'],\n",
        "    'max_iter' : [100,200,300],\n",
        "    'batch_size' : [8,16,32,64,128],\n",
        "    'hidden_layer_sizes' : ['75,100,125']\n",
        "}\n",
        "\n",
        "print('Classifying movement\\n')\n",
        "ann = sklearn.model_selection.GridSearchCV(sklearn.neural_network.MLPClassifier(),parameters,cv=cv,verbose=verbose)\n",
        "ann = ann.fit(train_X,train_y)\n",
        "print('Best parameters:\\n')\n",
        "print(ann.best_params_)\n",
        "prediction = ann.predict(test_X)\n",
        "print('Accuracy Score:')\n",
        "print(sklearn.metrics.accuracy_score(test_y,prediction))"
      ]
    }
  ],
  "metadata": {
    "colab": {
      "collapsed_sections": [
        "7naXn-esX33a",
        "CENunJf5X555",
        "iLSn82r2YBke",
        "INsVXAGVYF89",
        "pCQpGxOnYHjT"
      ],
      "provenance": [],
      "toc_visible": true
    },
    "kernelspec": {
      "display_name": "Python 3",
      "name": "python3"
    },
    "language_info": {
      "name": "python"
    }
  },
  "nbformat": 4,
  "nbformat_minor": 0
}
